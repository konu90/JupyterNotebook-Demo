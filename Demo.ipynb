{
 "cells": [
  {
   "cell_type": "code",
   "execution_count": null,
   "metadata": {},
   "outputs": [],
   "source": [
    "print(\"Hello world!\")"
   ]
  },
  {
   "cell_type": "code",
   "execution_count": null,
   "metadata": {},
   "outputs": [],
   "source": [
    "import pandas as pd\n",
    "import numpy as np\n",
    "\n",
    "#Method to load excel with pandas\n",
    "#loadDF = pd.read_excel(\"../CopiaDatosMATLAB.xlsx\")\n",
    "#Method to load excel with pandas\n",
    "loadDF = pd.read_csv(\"../data sampled every 10th sec.csv\", delimiter=';')\n",
    "loadDF = loadDF.drop(loadDF.index[0:2])"
   ]
  },
  {
   "cell_type": "code",
   "execution_count": null,
   "metadata": {},
   "outputs": [],
   "source": [
    "#rename Columns\n",
    "df = loadDF.rename(\n",
    "    {\n",
    "        'Cañuelas/Ezeiza #3 (S01)': 'Timestamp',\n",
    "        'CFA10CE001/XE01':'Active Load',\n",
    "        'MBA10AE005/XG01':'Variable Guide Vane',\n",
    "        'MBA10CP010/XE01':'Compressor Inlet Pressure',\n",
    "        'MBA10CP015/XE01':'Press Comp Outlet.1',\n",
    "        'MBA10CP016/XE01':'Press Comp Outlet.2',\n",
    "        'MBA10CP017/XE01':'Press Comp Outlet.3',\n",
    "        'MBA10CP040/XE01':'Turbine Exhaust Diff Pressure.1',\n",
    "        'MBA10CP041/XE01':'Turbine Exhaust Diff Pressure.2',\n",
    "        'MBA10CP042/XE01':'Turbine Exhaust Diff Pressure.3',\n",
    "        'MBA10CP045/XE01':'Turbine Exhaust Pressure',\n",
    "        'MBA10CP065/XE01':'Air Intake Diff Pressure.1',\n",
    "        'MBA10CP075/XE01':'Air Intake Diff Pressure.2',\n",
    "        'MBA10CS005/XE01':'NT1 Rotor Speed',\n",
    "        'MBA10CS010/XE01':'NT2 Rotor Speed',\n",
    "        'MBA10CT025/XE01':'Compressor Inlet Temperature.1',\n",
    "        'MBA10CT026/XE01':'Compressor Inlet Temperature.2',\n",
    "        'MBA10CT027/XE01':'Compressor Inlet Temperature.3',\n",
    "        'MBA10CT030/XE01':'Compressor Outlet Temperature.1',\n",
    "        'MBA10CT031/XE01':'Compressor Outlet Temperature.2',\n",
    "        'MBA10CT032/XE01':'Compressor Outlet Temperature.3',\n",
    "        'MBA10CT100/XE01':'Exhaust Temperature 1.1',\n",
    "        'MBA10CT100/XE02':'Exhaust Temperature 1.2',\n",
    "        'MBA10CT100/XE03':'Exhaust Temperature 1.3',\n",
    "        'MBA10CT105/XE01':'Exhaust Temperature 2.1',\n",
    "        'MBA10CT105/XE02':'Exhaust Temperature 2.2',\n",
    "        'MBA10CT105/XE03':'Exhaust Temperature 2.3',\n",
    "        'MBA10CT110/XE01':'Exhaust Temperature 3.1',\n",
    "        'MBA10CT110/XE02':'Exhaust Temperature 3.2',\n",
    "        'MBA10CT110/XE03':'Exhaust Temperature 3.3',\n",
    "        'MBA10CT115/XE01':'Exhaust Temperature 4.1',\n",
    "        'MBA10CT115/XE02':'Exhaust Temperature 4.2',\n",
    "        'MBA10CT115/XE03':'Exhaust Temperature 4.3',\n",
    "        'MBA10CT120/XE01':'Exhaust Temperature 5.1',\n",
    "        'MBA10CT120/XE02':'Exhaust Temperature 5.2',\n",
    "        'MBA10CT120/XE03':'Exhaust Temperature 5.3',\n",
    "        'MBA10CT125/XE01':'Exhaust Temperature 6.1',\n",
    "        'MBA10CT125/XE02':'Exhaust Temperature 6.2',\n",
    "        'MBA10CT125/XE03':'Exhaust Temperature 6.3',\n",
    "        'MBA10CT130/XE01':'Exhaust Temperature 7.1',\n",
    "        'MBA10CT130/XE02':'Exhaust Temperature 7.2',\n",
    "        'MBA10CT130/XE03':'Exhaust Temperature 7.3',\n",
    "        'MBA10CT135/XE01':'Exhaust Temperature 8.1',\n",
    "        'MBA10CT135/XE02':'Exhaust Temperature 8.2',\n",
    "        'MBA10CT135/XE03':'Exhaust Temperature 8.3',\n",
    "        'MBA10CT140/XE01':'Exhaust Temperature 9.1',\n",
    "        'MBA10CT140/XE02':'Exhaust Temperature 9.2',\n",
    "        'MBA10CT140/XE03':'Exhaust Temperature 9.3',\n",
    "        'MBA10CT145/XE01':'Exhaust Temperature 10.1',\n",
    "        'MBA10CT145/XE02':'Exhaust Temperature 10.2',\n",
    "        'MBA10CT145/XE03':'Exhaust Temperature 10.3',\n",
    "        'MBA10CT150/XE01':'Exhaust Temperature 11.1',\n",
    "        'MBA10CT150/XE02':'Exhaust Temperature 11.2',\n",
    "        'MBA10CT150/XE03':'Exhaust Temperature 11.3',\n",
    "        'MBA10CT155/XE01':'Exhaust Temperature 12.1',\n",
    "        'MBA10CT155/XE02':'Exhaust Temperature 12.2',\n",
    "        'MBA10CT155/XE03':'Exhaust Temperature 12.3',\n",
    "        'MBA10CT160/XE01':'Exhaust Temperature 13.1',\n",
    "        'MBA10CT160/XE02':'Exhaust Temperature 13.2',\n",
    "        'MBA10CT160/XE03':'Exhaust Temperature 13.3',\n",
    "        'MBA10CT165/XE01':'Exhaust Temperature 14.1',\n",
    "        'MBA10CT165/XE02':'Exhaust Temperature 14.2',\n",
    "        'MBA10CT165/XE03':'Exhaust Temperature 14.3',\n",
    "        'MBA10CT170/XE01':'Exhaust Temperature 15.1',\n",
    "        'MBA10CT170/XE02':'Exhaust Temperature 15.2',\n",
    "        'MBA10CT170/XE03':'Exhaust Temperature 15.3',\n",
    "        'MBA10CT175/XE01':'Exhaust Temperature 16.1',\n",
    "        'MBA10CT175/XE02':'Exhaust Temperature 16.2',\n",
    "        'MBA10CT175/XE03':'Exhaust Temperature 16.3',\n",
    "        'MBA10FF900/XE01':'Turbine Inlet Massflow',\n",
    "        'MBA10FT903/XE01':'Turbine Inlet Temperature (T52)',\n",
    "        'MBA10FT910/ZE01':'T7 Exhaust Temp Average',\n",
    "        'MBL30CM005/XE01':'Ambient Air Humidity',\n",
    "        'MBL30CT005/XE01':'Ambient Air Temperature',\n",
    "        'MBP10CT005/XE01':'Gas Fuel Temperature.1',\n",
    "        'MBP10CT006/XE01':'Gas Fuel Temperature.2',\n",
    "        'MBP10CT007/XE01':'Gas Fuel Temperature.3',\n",
    "        'MKA10CE014/XE01':'Generator Power Factor',\n",
    "        'MKY10CS010/XE01':'Generator Frequency'\n",
    "    },  axis='columns')"
   ]
  },
  {
   "cell_type": "code",
   "execution_count": null,
   "metadata": {},
   "outputs": [],
   "source": [
    "#Delete columns useless\n",
    "df = df.drop(\n",
    "    ['BAC10GS101/XP01',\n",
    "    'BAC10GS101/XP11',\n",
    "    'Generator Power Factor', \n",
    "    'Generator Frequency',\n",
    "    'Turbine Inlet Massflow',\n",
    "    'NT1 Rotor Speed',\n",
    "    'NT2 Rotor Speed']\n",
    "     , axis=1)\n",
    "\n",
    "for i in range (1,80):\n",
    "    column = 'Cañuelas/Ezeiza #3 (S01).' + str(i)\n",
    "    df = df.drop([column], axis=1)\n",
    "\n",
    "    "
   ]
  },
  {
   "cell_type": "code",
   "execution_count": null,
   "metadata": {},
   "outputs": [],
   "source": [
    "#Change types\n",
    "#orders['item_price'] = orders.item_price.str.replace('$', '').astype(float)\n",
    "df = df.applymap(lambda x: x.replace(',', '.'))\n",
    "#df['Timestamp']= df[['Timestamp']].\n",
    "df[df.columns[1:74]] = df[df.columns[1:74]].apply(pd.to_numeric, axis=0)"
   ]
  },
  {
   "cell_type": "code",
   "execution_count": null,
   "metadata": {
    "scrolled": false
   },
   "outputs": [],
   "source": [
    "#Get AVG values to each group of characteristics\n",
    "df['Press Comp Outlet'] = df[['Press Comp Outlet.1', 'Press Comp Outlet.2','Press Comp Outlet.3']].mean(axis=1)\n",
    "df = df.drop(['Press Comp Outlet.1','Press Comp Outlet.2','Press Comp Outlet.3'],axis=1)\n",
    "df['Turbine Exhaust Diff Pressure'] = df[['Turbine Exhaust Diff Pressure.1', 'Turbine Exhaust Diff Pressure.2','Turbine Exhaust Diff Pressure.3']].mean(axis=1)\n",
    "df = df.drop(['Turbine Exhaust Diff Pressure.1','Turbine Exhaust Diff Pressure.2','Turbine Exhaust Diff Pressure.3'],axis=1)\n",
    "df['Air Intake Diff Pressure'] = df[['Air Intake Diff Pressure.1', 'Air Intake Diff Pressure.2']].mean(axis=1)\n",
    "df = df.drop(['Air Intake Diff Pressure.1', 'Air Intake Diff Pressure.2'],axis=1)\n",
    "df['Compressor Inlet Temperature'] = df[['Compressor Inlet Temperature.1', 'Compressor Inlet Temperature.2', 'Compressor Inlet Temperature.3']].mean(axis=1)\n",
    "df = df.drop(['Compressor Inlet Temperature.1', 'Compressor Inlet Temperature.2', 'Compressor Inlet Temperature.3'],axis=1)\n",
    "df['Compressor Outlet Temperature'] = df[['Compressor Outlet Temperature.1', 'Compressor Outlet Temperature.2', 'Compressor Outlet Temperature.3']].mean(axis=1)\n",
    "df = df.drop(['Compressor Outlet Temperature.1', 'Compressor Outlet Temperature.2', 'Compressor Outlet Temperature.3'],axis=1)\n",
    "for i in range(1,17):\n",
    "    name = 'Exhaust Tempeture ' + str(i)\n",
    "    subname1 = 'Exhaust Temperature ' + str(i) + '.1'\n",
    "    subname2 = 'Exhaust Temperature ' + str(i) + '.2'\n",
    "    subname3 = 'Exhaust Temperature ' + str(i) + '.3'\n",
    "    df[name] = df[[subname1, subname2, subname3]].mean(axis=1)\n",
    "    df = df.drop([subname1, subname2, subname3], axis=1)\n",
    "df['Gas Fuel Temperature'] = df[['Gas Fuel Temperature.1', 'Gas Fuel Temperature.2', 'Gas Fuel Temperature.3']].mean(axis=1)\n",
    "df = df.drop(['Gas Fuel Temperature.1', 'Gas Fuel Temperature.2', 'Gas Fuel Temperature.3'],axis=1)\n"
   ]
  },
  {
   "cell_type": "code",
   "execution_count": null,
   "metadata": {},
   "outputs": [],
   "source": [
    "df.to_csv(\"../preprocessData.csv\", sep =';')"
   ]
  },
  {
   "cell_type": "code",
   "execution_count": null,
   "metadata": {},
   "outputs": [],
   "source": []
  }
 ],
 "metadata": {
  "kernelspec": {
   "display_name": "Python 3",
   "language": "python",
   "name": "python3"
  },
  "language_info": {
   "codemirror_mode": {
    "name": "ipython",
    "version": 3
   },
   "file_extension": ".py",
   "mimetype": "text/x-python",
   "name": "python",
   "nbconvert_exporter": "python",
   "pygments_lexer": "ipython3",
   "version": "3.6.7"
  }
 },
 "nbformat": 4,
 "nbformat_minor": 2
}
